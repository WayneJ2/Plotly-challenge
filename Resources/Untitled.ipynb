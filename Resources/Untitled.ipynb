{
 "cells": [
  {
   "cell_type": "code",
   "execution_count": 2,
   "id": "277ffe8a",
   "metadata": {},
   "outputs": [],
   "source": [
    "import pandas as pd"
   ]
  },
  {
   "cell_type": "code",
   "execution_count": 4,
   "id": "4120aeb9",
   "metadata": {},
   "outputs": [
    {
     "data": {
      "text/plain": [
       "dict_keys(['id', 'otu_ids', 'sample_values', 'otu_labels'])"
      ]
     },
     "execution_count": 4,
     "metadata": {},
     "output_type": "execute_result"
    }
   ],
   "source": [
    "samples = pd.read_json('samples.json')\n",
    "pd.read_json('samples.json')['samples'][0].keys()\n"
   ]
  },
  {
   "cell_type": "code",
   "execution_count": 7,
   "id": "d4fd418b",
   "metadata": {},
   "outputs": [
    {
     "data": {
      "text/plain": [
       "0      {'id': '940', 'otu_ids': [1167, 2859, 482, 226...\n",
       "1      {'id': '941', 'otu_ids': [2722, 944, 2419, 253...\n",
       "2      {'id': '943', 'otu_ids': [1795], 'sample_value...\n",
       "3      {'id': '944', 'otu_ids': [922, 3555, 943, 1013...\n",
       "4      {'id': '945', 'otu_ids': [944, 1795, 922, 2419...\n",
       "                             ...                        \n",
       "148    {'id': '1574', 'otu_ids': [482, 909, 2419, 944...\n",
       "149    {'id': '1576', 'otu_ids': [1929, 1770, 1926, 1...\n",
       "150    {'id': '1577', 'otu_ids': [922, 1795, 151, 318...\n",
       "151    {'id': '1581', 'otu_ids': [1795, 3312, 1399, 3...\n",
       "152    {'id': '1601', 'otu_ids': [1929, 3030, 1795, 8...\n",
       "Name: samples, Length: 153, dtype: object"
      ]
     },
     "execution_count": 7,
     "metadata": {},
     "output_type": "execute_result"
    }
   ],
   "source": [
    "samples['samples']"
   ]
  },
  {
   "cell_type": "code",
   "execution_count": null,
   "id": "17399d0a",
   "metadata": {},
   "outputs": [],
   "source": []
  }
 ],
 "metadata": {
  "kernelspec": {
   "display_name": "Python 3",
   "language": "python",
   "name": "python3"
  },
  "language_info": {
   "codemirror_mode": {
    "name": "ipython",
    "version": 3
   },
   "file_extension": ".py",
   "mimetype": "text/x-python",
   "name": "python",
   "nbconvert_exporter": "python",
   "pygments_lexer": "ipython3",
   "version": "3.8.8"
  }
 },
 "nbformat": 4,
 "nbformat_minor": 5
}
